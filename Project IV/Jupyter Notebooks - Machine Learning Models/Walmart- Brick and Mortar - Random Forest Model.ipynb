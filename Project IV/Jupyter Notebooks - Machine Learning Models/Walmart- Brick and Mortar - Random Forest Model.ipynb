{
 "cells": [
  {
   "cell_type": "markdown",
   "id": "510ed608",
   "metadata": {},
   "source": [
    "Import Dependencies"
   ]
  },
  {
   "cell_type": "code",
   "execution_count": 1,
   "id": "6163846e",
   "metadata": {},
   "outputs": [],
   "source": [
    "import pandas as pd\n",
    "import matplotlib.pyplot as plt\n",
    "%matplotlib inline"
   ]
  },
  {
   "cell_type": "code",
   "execution_count": 2,
   "id": "ebbfd241",
   "metadata": {},
   "outputs": [],
   "source": [
    "from sklearn.model_selection import train_test_split\n",
    "from sklearn.linear_model import LinearRegression\n",
    "from sklearn.linear_model import LogisticRegression\n",
    "from sklearn.preprocessing import StandardScaler, MinMaxScaler, LabelEncoder\n",
    "from sklearn.neighbors import KNeighborsClassifier\n",
    "from sklearn.ensemble import RandomForestRegressor\n",
    "from datetime import datetime\n",
    "import jenkspy"
   ]
  },
  {
   "cell_type": "markdown",
   "id": "89220cf7",
   "metadata": {},
   "source": [
    "Import/Read CSV Files"
   ]
  },
  {
   "cell_type": "code",
   "execution_count": 3,
   "id": "b0b0e97b",
   "metadata": {},
   "outputs": [
    {
     "data": {
      "text/html": [
       "<div>\n",
       "<style scoped>\n",
       "    .dataframe tbody tr th:only-of-type {\n",
       "        vertical-align: middle;\n",
       "    }\n",
       "\n",
       "    .dataframe tbody tr th {\n",
       "        vertical-align: top;\n",
       "    }\n",
       "\n",
       "    .dataframe thead th {\n",
       "        text-align: right;\n",
       "    }\n",
       "</style>\n",
       "<table border=\"1\" class=\"dataframe\">\n",
       "  <thead>\n",
       "    <tr style=\"text-align: right;\">\n",
       "      <th></th>\n",
       "      <th>Store</th>\n",
       "      <th>Date</th>\n",
       "      <th>Weekly_Sales</th>\n",
       "      <th>Holiday_Flag</th>\n",
       "      <th>Temperature</th>\n",
       "      <th>Fuel_Price</th>\n",
       "      <th>CPI</th>\n",
       "      <th>Unemployment</th>\n",
       "    </tr>\n",
       "  </thead>\n",
       "  <tbody>\n",
       "    <tr>\n",
       "      <th>0</th>\n",
       "      <td>1</td>\n",
       "      <td>05-02-2010</td>\n",
       "      <td>1643690.90</td>\n",
       "      <td>0</td>\n",
       "      <td>42.31</td>\n",
       "      <td>2.572</td>\n",
       "      <td>211.096358</td>\n",
       "      <td>8.106</td>\n",
       "    </tr>\n",
       "    <tr>\n",
       "      <th>1</th>\n",
       "      <td>1</td>\n",
       "      <td>12-02-2010</td>\n",
       "      <td>1641957.44</td>\n",
       "      <td>1</td>\n",
       "      <td>38.51</td>\n",
       "      <td>2.548</td>\n",
       "      <td>211.242170</td>\n",
       "      <td>8.106</td>\n",
       "    </tr>\n",
       "    <tr>\n",
       "      <th>2</th>\n",
       "      <td>1</td>\n",
       "      <td>19-02-2010</td>\n",
       "      <td>1611968.17</td>\n",
       "      <td>0</td>\n",
       "      <td>39.93</td>\n",
       "      <td>2.514</td>\n",
       "      <td>211.289143</td>\n",
       "      <td>8.106</td>\n",
       "    </tr>\n",
       "    <tr>\n",
       "      <th>3</th>\n",
       "      <td>1</td>\n",
       "      <td>26-02-2010</td>\n",
       "      <td>1409727.59</td>\n",
       "      <td>0</td>\n",
       "      <td>46.63</td>\n",
       "      <td>2.561</td>\n",
       "      <td>211.319643</td>\n",
       "      <td>8.106</td>\n",
       "    </tr>\n",
       "    <tr>\n",
       "      <th>4</th>\n",
       "      <td>1</td>\n",
       "      <td>05-03-2010</td>\n",
       "      <td>1554806.68</td>\n",
       "      <td>0</td>\n",
       "      <td>46.50</td>\n",
       "      <td>2.625</td>\n",
       "      <td>211.350143</td>\n",
       "      <td>8.106</td>\n",
       "    </tr>\n",
       "    <tr>\n",
       "      <th>5</th>\n",
       "      <td>1</td>\n",
       "      <td>12-03-2010</td>\n",
       "      <td>1439541.59</td>\n",
       "      <td>0</td>\n",
       "      <td>57.79</td>\n",
       "      <td>2.667</td>\n",
       "      <td>211.380643</td>\n",
       "      <td>8.106</td>\n",
       "    </tr>\n",
       "    <tr>\n",
       "      <th>6</th>\n",
       "      <td>1</td>\n",
       "      <td>19-03-2010</td>\n",
       "      <td>1472515.79</td>\n",
       "      <td>0</td>\n",
       "      <td>54.58</td>\n",
       "      <td>2.720</td>\n",
       "      <td>211.215635</td>\n",
       "      <td>8.106</td>\n",
       "    </tr>\n",
       "    <tr>\n",
       "      <th>7</th>\n",
       "      <td>1</td>\n",
       "      <td>26-03-2010</td>\n",
       "      <td>1404429.92</td>\n",
       "      <td>0</td>\n",
       "      <td>51.45</td>\n",
       "      <td>2.732</td>\n",
       "      <td>211.018042</td>\n",
       "      <td>8.106</td>\n",
       "    </tr>\n",
       "    <tr>\n",
       "      <th>8</th>\n",
       "      <td>1</td>\n",
       "      <td>02-04-2010</td>\n",
       "      <td>1594968.28</td>\n",
       "      <td>0</td>\n",
       "      <td>62.27</td>\n",
       "      <td>2.719</td>\n",
       "      <td>210.820450</td>\n",
       "      <td>7.808</td>\n",
       "    </tr>\n",
       "    <tr>\n",
       "      <th>9</th>\n",
       "      <td>1</td>\n",
       "      <td>09-04-2010</td>\n",
       "      <td>1545418.53</td>\n",
       "      <td>0</td>\n",
       "      <td>65.86</td>\n",
       "      <td>2.770</td>\n",
       "      <td>210.622857</td>\n",
       "      <td>7.808</td>\n",
       "    </tr>\n",
       "  </tbody>\n",
       "</table>\n",
       "</div>"
      ],
      "text/plain": [
       "   Store        Date  Weekly_Sales  Holiday_Flag  Temperature  Fuel_Price  \\\n",
       "0      1  05-02-2010    1643690.90             0        42.31       2.572   \n",
       "1      1  12-02-2010    1641957.44             1        38.51       2.548   \n",
       "2      1  19-02-2010    1611968.17             0        39.93       2.514   \n",
       "3      1  26-02-2010    1409727.59             0        46.63       2.561   \n",
       "4      1  05-03-2010    1554806.68             0        46.50       2.625   \n",
       "5      1  12-03-2010    1439541.59             0        57.79       2.667   \n",
       "6      1  19-03-2010    1472515.79             0        54.58       2.720   \n",
       "7      1  26-03-2010    1404429.92             0        51.45       2.732   \n",
       "8      1  02-04-2010    1594968.28             0        62.27       2.719   \n",
       "9      1  09-04-2010    1545418.53             0        65.86       2.770   \n",
       "\n",
       "          CPI  Unemployment  \n",
       "0  211.096358         8.106  \n",
       "1  211.242170         8.106  \n",
       "2  211.289143         8.106  \n",
       "3  211.319643         8.106  \n",
       "4  211.350143         8.106  \n",
       "5  211.380643         8.106  \n",
       "6  211.215635         8.106  \n",
       "7  211.018042         8.106  \n",
       "8  210.820450         7.808  \n",
       "9  210.622857         7.808  "
      ]
     },
     "execution_count": 3,
     "metadata": {},
     "output_type": "execute_result"
    }
   ],
   "source": [
    "Walmart=pd.read_csv(\"Walmart.csv\")\n",
    "Walmart.head(10)"
   ]
  },
  {
   "cell_type": "markdown",
   "id": "db48bbbb",
   "metadata": {},
   "source": [
    "Inspect Data"
   ]
  },
  {
   "cell_type": "code",
   "execution_count": 4,
   "id": "339828d3",
   "metadata": {},
   "outputs": [
    {
     "name": "stdout",
     "output_type": "stream",
     "text": [
      "<class 'pandas.core.frame.DataFrame'>\n",
      "RangeIndex: 6435 entries, 0 to 6434\n",
      "Data columns (total 8 columns):\n",
      " #   Column        Non-Null Count  Dtype  \n",
      "---  ------        --------------  -----  \n",
      " 0   Store         6435 non-null   int64  \n",
      " 1   Date          6435 non-null   object \n",
      " 2   Weekly_Sales  6435 non-null   float64\n",
      " 3   Holiday_Flag  6435 non-null   int64  \n",
      " 4   Temperature   6435 non-null   float64\n",
      " 5   Fuel_Price    6435 non-null   float64\n",
      " 6   CPI           6435 non-null   float64\n",
      " 7   Unemployment  6435 non-null   float64\n",
      "dtypes: float64(5), int64(2), object(1)\n",
      "memory usage: 402.3+ KB\n"
     ]
    }
   ],
   "source": [
    "Walmart.info()"
   ]
  },
  {
   "cell_type": "code",
   "execution_count": 5,
   "id": "71881cf4",
   "metadata": {},
   "outputs": [
    {
     "data": {
      "text/plain": [
       "(6435, 8)"
      ]
     },
     "execution_count": 5,
     "metadata": {},
     "output_type": "execute_result"
    }
   ],
   "source": [
    "#Row/column counts\n",
    "Walmart.shape"
   ]
  },
  {
   "cell_type": "code",
   "execution_count": 6,
   "id": "6cffdd61",
   "metadata": {},
   "outputs": [
    {
     "data": {
      "text/html": [
       "<div>\n",
       "<style scoped>\n",
       "    .dataframe tbody tr th:only-of-type {\n",
       "        vertical-align: middle;\n",
       "    }\n",
       "\n",
       "    .dataframe tbody tr th {\n",
       "        vertical-align: top;\n",
       "    }\n",
       "\n",
       "    .dataframe thead th {\n",
       "        text-align: right;\n",
       "    }\n",
       "</style>\n",
       "<table border=\"1\" class=\"dataframe\">\n",
       "  <thead>\n",
       "    <tr style=\"text-align: right;\">\n",
       "      <th></th>\n",
       "      <th>Store</th>\n",
       "      <th>Date</th>\n",
       "      <th>Weekly_Sales</th>\n",
       "      <th>Holiday_Flag</th>\n",
       "      <th>Temperature</th>\n",
       "      <th>Fuel_Price</th>\n",
       "      <th>CPI</th>\n",
       "      <th>Unemployment</th>\n",
       "    </tr>\n",
       "  </thead>\n",
       "  <tbody>\n",
       "    <tr>\n",
       "      <th>count</th>\n",
       "      <td>6435.000000</td>\n",
       "      <td>6435</td>\n",
       "      <td>6.435000e+03</td>\n",
       "      <td>6435.000000</td>\n",
       "      <td>6435.000000</td>\n",
       "      <td>6435.000000</td>\n",
       "      <td>6435.000000</td>\n",
       "      <td>6435.000000</td>\n",
       "    </tr>\n",
       "    <tr>\n",
       "      <th>unique</th>\n",
       "      <td>NaN</td>\n",
       "      <td>143</td>\n",
       "      <td>NaN</td>\n",
       "      <td>NaN</td>\n",
       "      <td>NaN</td>\n",
       "      <td>NaN</td>\n",
       "      <td>NaN</td>\n",
       "      <td>NaN</td>\n",
       "    </tr>\n",
       "    <tr>\n",
       "      <th>top</th>\n",
       "      <td>NaN</td>\n",
       "      <td>22-07-2011</td>\n",
       "      <td>NaN</td>\n",
       "      <td>NaN</td>\n",
       "      <td>NaN</td>\n",
       "      <td>NaN</td>\n",
       "      <td>NaN</td>\n",
       "      <td>NaN</td>\n",
       "    </tr>\n",
       "    <tr>\n",
       "      <th>freq</th>\n",
       "      <td>NaN</td>\n",
       "      <td>45</td>\n",
       "      <td>NaN</td>\n",
       "      <td>NaN</td>\n",
       "      <td>NaN</td>\n",
       "      <td>NaN</td>\n",
       "      <td>NaN</td>\n",
       "      <td>NaN</td>\n",
       "    </tr>\n",
       "    <tr>\n",
       "      <th>mean</th>\n",
       "      <td>23.000000</td>\n",
       "      <td>NaN</td>\n",
       "      <td>1.046965e+06</td>\n",
       "      <td>0.069930</td>\n",
       "      <td>60.663782</td>\n",
       "      <td>3.358607</td>\n",
       "      <td>171.578394</td>\n",
       "      <td>7.999151</td>\n",
       "    </tr>\n",
       "    <tr>\n",
       "      <th>std</th>\n",
       "      <td>12.988182</td>\n",
       "      <td>NaN</td>\n",
       "      <td>5.643666e+05</td>\n",
       "      <td>0.255049</td>\n",
       "      <td>18.444933</td>\n",
       "      <td>0.459020</td>\n",
       "      <td>39.356712</td>\n",
       "      <td>1.875885</td>\n",
       "    </tr>\n",
       "    <tr>\n",
       "      <th>min</th>\n",
       "      <td>1.000000</td>\n",
       "      <td>NaN</td>\n",
       "      <td>2.099862e+05</td>\n",
       "      <td>0.000000</td>\n",
       "      <td>-2.060000</td>\n",
       "      <td>2.472000</td>\n",
       "      <td>126.064000</td>\n",
       "      <td>3.879000</td>\n",
       "    </tr>\n",
       "    <tr>\n",
       "      <th>25%</th>\n",
       "      <td>12.000000</td>\n",
       "      <td>NaN</td>\n",
       "      <td>5.533501e+05</td>\n",
       "      <td>0.000000</td>\n",
       "      <td>47.460000</td>\n",
       "      <td>2.933000</td>\n",
       "      <td>131.735000</td>\n",
       "      <td>6.891000</td>\n",
       "    </tr>\n",
       "    <tr>\n",
       "      <th>50%</th>\n",
       "      <td>23.000000</td>\n",
       "      <td>NaN</td>\n",
       "      <td>9.607460e+05</td>\n",
       "      <td>0.000000</td>\n",
       "      <td>62.670000</td>\n",
       "      <td>3.445000</td>\n",
       "      <td>182.616521</td>\n",
       "      <td>7.874000</td>\n",
       "    </tr>\n",
       "    <tr>\n",
       "      <th>75%</th>\n",
       "      <td>34.000000</td>\n",
       "      <td>NaN</td>\n",
       "      <td>1.420159e+06</td>\n",
       "      <td>0.000000</td>\n",
       "      <td>74.940000</td>\n",
       "      <td>3.735000</td>\n",
       "      <td>212.743293</td>\n",
       "      <td>8.622000</td>\n",
       "    </tr>\n",
       "    <tr>\n",
       "      <th>max</th>\n",
       "      <td>45.000000</td>\n",
       "      <td>NaN</td>\n",
       "      <td>3.818686e+06</td>\n",
       "      <td>1.000000</td>\n",
       "      <td>100.140000</td>\n",
       "      <td>4.468000</td>\n",
       "      <td>227.232807</td>\n",
       "      <td>14.313000</td>\n",
       "    </tr>\n",
       "  </tbody>\n",
       "</table>\n",
       "</div>"
      ],
      "text/plain": [
       "              Store        Date  Weekly_Sales  Holiday_Flag  Temperature  \\\n",
       "count   6435.000000        6435  6.435000e+03   6435.000000  6435.000000   \n",
       "unique          NaN         143           NaN           NaN          NaN   \n",
       "top             NaN  22-07-2011           NaN           NaN          NaN   \n",
       "freq            NaN          45           NaN           NaN          NaN   \n",
       "mean      23.000000         NaN  1.046965e+06      0.069930    60.663782   \n",
       "std       12.988182         NaN  5.643666e+05      0.255049    18.444933   \n",
       "min        1.000000         NaN  2.099862e+05      0.000000    -2.060000   \n",
       "25%       12.000000         NaN  5.533501e+05      0.000000    47.460000   \n",
       "50%       23.000000         NaN  9.607460e+05      0.000000    62.670000   \n",
       "75%       34.000000         NaN  1.420159e+06      0.000000    74.940000   \n",
       "max       45.000000         NaN  3.818686e+06      1.000000   100.140000   \n",
       "\n",
       "         Fuel_Price          CPI  Unemployment  \n",
       "count   6435.000000  6435.000000   6435.000000  \n",
       "unique          NaN          NaN           NaN  \n",
       "top             NaN          NaN           NaN  \n",
       "freq            NaN          NaN           NaN  \n",
       "mean       3.358607   171.578394      7.999151  \n",
       "std        0.459020    39.356712      1.875885  \n",
       "min        2.472000   126.064000      3.879000  \n",
       "25%        2.933000   131.735000      6.891000  \n",
       "50%        3.445000   182.616521      7.874000  \n",
       "75%        3.735000   212.743293      8.622000  \n",
       "max        4.468000   227.232807     14.313000  "
      ]
     },
     "execution_count": 6,
     "metadata": {},
     "output_type": "execute_result"
    }
   ],
   "source": [
    "#Column summary totals/counts\n",
    "Walmart.describe(include=\"all\")"
   ]
  },
  {
   "cell_type": "code",
   "execution_count": 7,
   "id": "a73b1191",
   "metadata": {},
   "outputs": [
    {
     "name": "stdout",
     "output_type": "stream",
     "text": [
      "31-12-2010\n",
      "01-04-2011\n"
     ]
    }
   ],
   "source": [
    "#Find min and max Date\n",
    "print(Walmart.Date.max())\n",
    "print(Walmart.Date.min())"
   ]
  },
  {
   "cell_type": "code",
   "execution_count": 8,
   "id": "972a8ed5",
   "metadata": {},
   "outputs": [
    {
     "name": "stdout",
     "output_type": "stream",
     "text": [
      "3818686.45\n",
      "209986.25\n"
     ]
    }
   ],
   "source": [
    "#Find min and max Weekly_Sales\n",
    "print(Walmart['Weekly_Sales'].max())\n",
    "print(Walmart['Weekly_Sales'].min())"
   ]
  },
  {
   "cell_type": "markdown",
   "id": "06c92970",
   "metadata": {},
   "source": [
    "NOTE: Data set range from December 31, 2010-January 4, 2011 \n",
    "Walmart Data Sets are outdated -- API is not for public use must register as a Seller (only Developer/Affiliates)\n",
    "In retrospect finding a topic with more up-to-date data would have been preferable -- retailers are not exactly quick to share data with potential competitors "
   ]
  },
  {
   "cell_type": "code",
   "execution_count": 9,
   "id": "8de5d249",
   "metadata": {},
   "outputs": [
    {
     "name": "stdout",
     "output_type": "stream",
     "text": [
      "3818686.45\n",
      "209986.25\n"
     ]
    }
   ],
   "source": [
    "#Find min and max Weekly_Sales totals\n",
    "print(Walmart.Weekly_Sales.max())\n",
    "print(Walmart.Weekly_Sales.min())"
   ]
  },
  {
   "cell_type": "code",
   "execution_count": 10,
   "id": "b68445ae",
   "metadata": {},
   "outputs": [
    {
     "data": {
      "text/html": [
       "<div>\n",
       "<style scoped>\n",
       "    .dataframe tbody tr th:only-of-type {\n",
       "        vertical-align: middle;\n",
       "    }\n",
       "\n",
       "    .dataframe tbody tr th {\n",
       "        vertical-align: top;\n",
       "    }\n",
       "\n",
       "    .dataframe thead th {\n",
       "        text-align: right;\n",
       "    }\n",
       "</style>\n",
       "<table border=\"1\" class=\"dataframe\">\n",
       "  <thead>\n",
       "    <tr style=\"text-align: right;\">\n",
       "      <th></th>\n",
       "      <th>Store</th>\n",
       "      <th>Date</th>\n",
       "      <th>Weekly_Sales</th>\n",
       "      <th>Holiday_Flag</th>\n",
       "      <th>Temperature</th>\n",
       "      <th>Fuel_Price</th>\n",
       "      <th>CPI</th>\n",
       "      <th>Unemployment</th>\n",
       "    </tr>\n",
       "  </thead>\n",
       "  <tbody>\n",
       "    <tr>\n",
       "      <th>1905</th>\n",
       "      <td>14</td>\n",
       "      <td>24-12-2010</td>\n",
       "      <td>3818686.45</td>\n",
       "      <td>0</td>\n",
       "      <td>30.59</td>\n",
       "      <td>3.141</td>\n",
       "      <td>182.54459</td>\n",
       "      <td>8.724</td>\n",
       "    </tr>\n",
       "  </tbody>\n",
       "</table>\n",
       "</div>"
      ],
      "text/plain": [
       "      Store        Date  Weekly_Sales  Holiday_Flag  Temperature  Fuel_Price  \\\n",
       "1905     14  24-12-2010    3818686.45             0        30.59       3.141   \n",
       "\n",
       "            CPI  Unemployment  \n",
       "1905  182.54459         8.724  "
      ]
     },
     "execution_count": 10,
     "metadata": {},
     "output_type": "execute_result"
    }
   ],
   "source": [
    "#Show max row detail \n",
    "Sales_Max = Walmart[Walmart['Weekly_Sales'] == 3818686.45]\n",
    "Sales_Max"
   ]
  },
  {
   "cell_type": "code",
   "execution_count": 11,
   "id": "916d6fd8",
   "metadata": {},
   "outputs": [
    {
     "data": {
      "text/html": [
       "<div>\n",
       "<style scoped>\n",
       "    .dataframe tbody tr th:only-of-type {\n",
       "        vertical-align: middle;\n",
       "    }\n",
       "\n",
       "    .dataframe tbody tr th {\n",
       "        vertical-align: top;\n",
       "    }\n",
       "\n",
       "    .dataframe thead th {\n",
       "        text-align: right;\n",
       "    }\n",
       "</style>\n",
       "<table border=\"1\" class=\"dataframe\">\n",
       "  <thead>\n",
       "    <tr style=\"text-align: right;\">\n",
       "      <th></th>\n",
       "      <th>Store</th>\n",
       "      <th>Date</th>\n",
       "      <th>Weekly_Sales</th>\n",
       "      <th>Holiday_Flag</th>\n",
       "      <th>Temperature</th>\n",
       "      <th>Fuel_Price</th>\n",
       "      <th>CPI</th>\n",
       "      <th>Unemployment</th>\n",
       "    </tr>\n",
       "  </thead>\n",
       "  <tbody>\n",
       "    <tr>\n",
       "      <th>4619</th>\n",
       "      <td>33</td>\n",
       "      <td>03-12-2010</td>\n",
       "      <td>209986.25</td>\n",
       "      <td>0</td>\n",
       "      <td>52.82</td>\n",
       "      <td>3.041</td>\n",
       "      <td>126.731333</td>\n",
       "      <td>9.265</td>\n",
       "    </tr>\n",
       "  </tbody>\n",
       "</table>\n",
       "</div>"
      ],
      "text/plain": [
       "      Store        Date  Weekly_Sales  Holiday_Flag  Temperature  Fuel_Price  \\\n",
       "4619     33  03-12-2010     209986.25             0        52.82       3.041   \n",
       "\n",
       "             CPI  Unemployment  \n",
       "4619  126.731333         9.265  "
      ]
     },
     "execution_count": 11,
     "metadata": {},
     "output_type": "execute_result"
    }
   ],
   "source": [
    "#Show min row detail \n",
    "Sales_Min = Walmart[Walmart['Weekly_Sales'] == 209986.25]\n",
    "Sales_Min"
   ]
  },
  {
   "cell_type": "code",
   "execution_count": 12,
   "id": "44922317",
   "metadata": {},
   "outputs": [
    {
     "data": {
      "text/plain": [
       "Store\n",
       "14    317569.949476\n",
       "10    302262.062504\n",
       "20    275900.562742\n",
       "4     266201.442297\n",
       "13    265506.995776\n",
       "Name: Weekly_Sales, dtype: float64"
      ]
     },
     "execution_count": 12,
     "metadata": {},
     "output_type": "execute_result"
    }
   ],
   "source": [
    "#STD Deviation\n",
    "Stores = Walmart.groupby('Store')['Weekly_Sales'].std().sort_values(ascending = False)\n",
    "Stores.head()"
   ]
  },
  {
   "cell_type": "code",
   "execution_count": 13,
   "id": "49cb6f9f",
   "metadata": {},
   "outputs": [
    {
     "data": {
      "text/html": [
       "<div>\n",
       "<style scoped>\n",
       "    .dataframe tbody tr th:only-of-type {\n",
       "        vertical-align: middle;\n",
       "    }\n",
       "\n",
       "    .dataframe tbody tr th {\n",
       "        vertical-align: top;\n",
       "    }\n",
       "\n",
       "    .dataframe thead th {\n",
       "        text-align: right;\n",
       "    }\n",
       "</style>\n",
       "<table border=\"1\" class=\"dataframe\">\n",
       "  <thead>\n",
       "    <tr style=\"text-align: right;\">\n",
       "      <th></th>\n",
       "      <th>Store</th>\n",
       "      <th>Week</th>\n",
       "      <th>Sales</th>\n",
       "      <th>Holiday during Week</th>\n",
       "      <th>Avg. Weekly Temp</th>\n",
       "      <th>Regional Fuel Price Avg.</th>\n",
       "      <th>Consumer Price Index</th>\n",
       "      <th>Unemployment</th>\n",
       "    </tr>\n",
       "  </thead>\n",
       "  <tbody>\n",
       "    <tr>\n",
       "      <th>0</th>\n",
       "      <td>1</td>\n",
       "      <td>05-02-2010</td>\n",
       "      <td>1643690.90</td>\n",
       "      <td>0</td>\n",
       "      <td>42.31</td>\n",
       "      <td>2.572</td>\n",
       "      <td>211.096358</td>\n",
       "      <td>8.106</td>\n",
       "    </tr>\n",
       "    <tr>\n",
       "      <th>1</th>\n",
       "      <td>1</td>\n",
       "      <td>12-02-2010</td>\n",
       "      <td>1641957.44</td>\n",
       "      <td>1</td>\n",
       "      <td>38.51</td>\n",
       "      <td>2.548</td>\n",
       "      <td>211.242170</td>\n",
       "      <td>8.106</td>\n",
       "    </tr>\n",
       "  </tbody>\n",
       "</table>\n",
       "</div>"
      ],
      "text/plain": [
       "   Store        Week       Sales  Holiday during Week  Avg. Weekly Temp  \\\n",
       "0      1  05-02-2010  1643690.90                    0             42.31   \n",
       "1      1  12-02-2010  1641957.44                    1             38.51   \n",
       "\n",
       "   Regional Fuel Price Avg.  Consumer Price Index  Unemployment  \n",
       "0                     2.572            211.096358         8.106  \n",
       "1                     2.548            211.242170         8.106  "
      ]
     },
     "execution_count": 13,
     "metadata": {},
     "output_type": "execute_result"
    }
   ],
   "source": [
    "#Rename column headers\n",
    "Walmart2= Walmart.rename(columns={'Date': 'Week','Weekly_Sales': 'Sales',\n",
    "                                  'Holiday_Flag': 'Holiday during Week', 'Temperature': 'Avg. Weekly Temp',\n",
    "                                  'Fuel_Price': 'Regional Fuel Price Avg.','CPI': 'Consumer Price Index', \n",
    "                                    })\n",
    "Walmart2.head(2)"
   ]
  },
  {
   "cell_type": "code",
   "execution_count": 14,
   "id": "d94bd10c",
   "metadata": {},
   "outputs": [
    {
     "data": {
      "text/html": [
       "<div>\n",
       "<style scoped>\n",
       "    .dataframe tbody tr th:only-of-type {\n",
       "        vertical-align: middle;\n",
       "    }\n",
       "\n",
       "    .dataframe tbody tr th {\n",
       "        vertical-align: top;\n",
       "    }\n",
       "\n",
       "    .dataframe thead th {\n",
       "        text-align: right;\n",
       "    }\n",
       "</style>\n",
       "<table border=\"1\" class=\"dataframe\">\n",
       "  <thead>\n",
       "    <tr style=\"text-align: right;\">\n",
       "      <th></th>\n",
       "      <th>Store</th>\n",
       "      <th>Week</th>\n",
       "      <th>Sales</th>\n",
       "      <th>Holiday during Week</th>\n",
       "      <th>Avg. Weekly Temp</th>\n",
       "      <th>Regional Fuel Price Avg.</th>\n",
       "      <th>Consumer Price Index</th>\n",
       "      <th>Unemployment</th>\n",
       "    </tr>\n",
       "  </thead>\n",
       "  <tbody>\n",
       "    <tr>\n",
       "      <th>4623</th>\n",
       "      <td>33</td>\n",
       "      <td>31-12-2010</td>\n",
       "      <td>219804.85</td>\n",
       "      <td>1</td>\n",
       "      <td>52.91</td>\n",
       "      <td>3.148</td>\n",
       "      <td>127.087677</td>\n",
       "      <td>9.265</td>\n",
       "    </tr>\n",
       "    <tr>\n",
       "      <th>2335</th>\n",
       "      <td>17</td>\n",
       "      <td>31-12-2010</td>\n",
       "      <td>635862.55</td>\n",
       "      <td>1</td>\n",
       "      <td>20.79</td>\n",
       "      <td>2.868</td>\n",
       "      <td>127.087677</td>\n",
       "      <td>6.885</td>\n",
       "    </tr>\n",
       "    <tr>\n",
       "      <th>1906</th>\n",
       "      <td>14</td>\n",
       "      <td>31-12-2010</td>\n",
       "      <td>1623716.46</td>\n",
       "      <td>1</td>\n",
       "      <td>29.67</td>\n",
       "      <td>3.179</td>\n",
       "      <td>182.571448</td>\n",
       "      <td>8.724</td>\n",
       "    </tr>\n",
       "    <tr>\n",
       "      <th>3479</th>\n",
       "      <td>25</td>\n",
       "      <td>31-12-2010</td>\n",
       "      <td>623092.54</td>\n",
       "      <td>1</td>\n",
       "      <td>25.89</td>\n",
       "      <td>3.179</td>\n",
       "      <td>204.643227</td>\n",
       "      <td>7.484</td>\n",
       "    </tr>\n",
       "    <tr>\n",
       "      <th>5624</th>\n",
       "      <td>40</td>\n",
       "      <td>31-12-2010</td>\n",
       "      <td>811318.30</td>\n",
       "      <td>1</td>\n",
       "      <td>19.29</td>\n",
       "      <td>3.177</td>\n",
       "      <td>132.815032</td>\n",
       "      <td>5.287</td>\n",
       "    </tr>\n",
       "    <tr>\n",
       "      <th>6196</th>\n",
       "      <td>44</td>\n",
       "      <td>31-12-2010</td>\n",
       "      <td>241937.11</td>\n",
       "      <td>1</td>\n",
       "      <td>26.79</td>\n",
       "      <td>2.868</td>\n",
       "      <td>127.087677</td>\n",
       "      <td>7.610</td>\n",
       "    </tr>\n",
       "    <tr>\n",
       "      <th>3193</th>\n",
       "      <td>23</td>\n",
       "      <td>31-12-2010</td>\n",
       "      <td>1169773.85</td>\n",
       "      <td>1</td>\n",
       "      <td>19.05</td>\n",
       "      <td>3.177</td>\n",
       "      <td>132.815032</td>\n",
       "      <td>5.287</td>\n",
       "    </tr>\n",
       "    <tr>\n",
       "      <th>6053</th>\n",
       "      <td>43</td>\n",
       "      <td>31-12-2010</td>\n",
       "      <td>534740.30</td>\n",
       "      <td>1</td>\n",
       "      <td>48.61</td>\n",
       "      <td>2.943</td>\n",
       "      <td>203.417684</td>\n",
       "      <td>10.210</td>\n",
       "    </tr>\n",
       "    <tr>\n",
       "      <th>333</th>\n",
       "      <td>3</td>\n",
       "      <td>31-12-2010</td>\n",
       "      <td>382677.76</td>\n",
       "      <td>1</td>\n",
       "      <td>53.20</td>\n",
       "      <td>2.943</td>\n",
       "      <td>214.698647</td>\n",
       "      <td>7.564</td>\n",
       "    </tr>\n",
       "    <tr>\n",
       "      <th>3765</th>\n",
       "      <td>27</td>\n",
       "      <td>31-12-2010</td>\n",
       "      <td>1440963.00</td>\n",
       "      <td>1</td>\n",
       "      <td>29.59</td>\n",
       "      <td>3.336</td>\n",
       "      <td>136.665265</td>\n",
       "      <td>8.021</td>\n",
       "    </tr>\n",
       "  </tbody>\n",
       "</table>\n",
       "</div>"
      ],
      "text/plain": [
       "      Store        Week       Sales  Holiday during Week  Avg. Weekly Temp  \\\n",
       "4623     33  31-12-2010   219804.85                    1             52.91   \n",
       "2335     17  31-12-2010   635862.55                    1             20.79   \n",
       "1906     14  31-12-2010  1623716.46                    1             29.67   \n",
       "3479     25  31-12-2010   623092.54                    1             25.89   \n",
       "5624     40  31-12-2010   811318.30                    1             19.29   \n",
       "6196     44  31-12-2010   241937.11                    1             26.79   \n",
       "3193     23  31-12-2010  1169773.85                    1             19.05   \n",
       "6053     43  31-12-2010   534740.30                    1             48.61   \n",
       "333       3  31-12-2010   382677.76                    1             53.20   \n",
       "3765     27  31-12-2010  1440963.00                    1             29.59   \n",
       "\n",
       "      Regional Fuel Price Avg.  Consumer Price Index  Unemployment  \n",
       "4623                     3.148            127.087677         9.265  \n",
       "2335                     2.868            127.087677         6.885  \n",
       "1906                     3.179            182.571448         8.724  \n",
       "3479                     3.179            204.643227         7.484  \n",
       "5624                     3.177            132.815032         5.287  \n",
       "6196                     2.868            127.087677         7.610  \n",
       "3193                     3.177            132.815032         5.287  \n",
       "6053                     2.943            203.417684        10.210  \n",
       "333                      2.943            214.698647         7.564  \n",
       "3765                     3.336            136.665265         8.021  "
      ]
     },
     "execution_count": 14,
     "metadata": {},
     "output_type": "execute_result"
    }
   ],
   "source": [
    "#Sort by date\n",
    "Walmart3=Walmart2.sort_values('Week',ascending=False)\n",
    "Walmart3.head(10)"
   ]
  },
  {
   "cell_type": "code",
   "execution_count": 15,
   "id": "930f3b46",
   "metadata": {},
   "outputs": [
    {
     "data": {
      "text/plain": [
       "array([33, 17, 14, 25, 40, 44, 23, 43,  3, 27, 38, 21,  1, 22, 31, 45, 41,\n",
       "       12, 13, 18, 26, 32, 36,  5,  2,  7,  9, 29, 20, 24, 42,  6, 30, 15,\n",
       "        8, 37,  4, 16, 34, 11, 28, 35, 19, 10, 39], dtype=int64)"
      ]
     },
     "execution_count": 15,
     "metadata": {},
     "output_type": "execute_result"
    }
   ],
   "source": [
    "Walmart3.Store.unique()"
   ]
  },
  {
   "cell_type": "code",
   "execution_count": 16,
   "id": "7e3d8af4",
   "metadata": {},
   "outputs": [
    {
     "data": {
      "text/plain": [
       "Store                       0\n",
       "Week                        0\n",
       "Sales                       0\n",
       "Holiday during Week         0\n",
       "Avg. Weekly Temp            0\n",
       "Regional Fuel Price Avg.    0\n",
       "Consumer Price Index        0\n",
       "Unemployment                0\n",
       "dtype: int64"
      ]
     },
     "execution_count": 16,
     "metadata": {},
     "output_type": "execute_result"
    }
   ],
   "source": [
    "Walmart3.isnull().sum()"
   ]
  },
  {
   "cell_type": "code",
   "execution_count": 17,
   "id": "d2c1da2d",
   "metadata": {},
   "outputs": [
    {
     "data": {
      "text/plain": [
       "<AxesSubplot:title={'center':'Sales Per Date'}, xlabel='Week', ylabel='Weekly Sales Totals in Billions'>"
      ]
     },
     "execution_count": 17,
     "metadata": {},
     "output_type": "execute_result"
    },
    {
     "data": {
      "image/png": "[encoded data removed]",
      "text/plain": [
       "<Figure size 1080x360 with 1 Axes>"
      ]
     },
     "metadata": {
      "needs_background": "light"
     },
     "output_type": "display_data"
    }
   ],
   "source": [
    "sales = Walmart3.groupby(['Week'])['Sales'].sum()\n",
    "fig, ax = plt.subplots(figsize=(15,5))\n",
    "plt.title('Sales Per Date', fontsize = 40)\n",
    "plt.xlabel('Store Number', fontsize = 20)\n",
    "plt.ylabel('Weekly Sales Totals in Billions', fontsize = 20)\n",
    "sales.plot()"
   ]
  },
  {
   "cell_type": "markdown",
   "id": "f3bcc957",
   "metadata": {},
   "source": [
    "# Machine Learning: Regression Models -- Sales Predictions"
   ]
  },
  {
   "cell_type": "markdown",
   "id": "89e0c6e6",
   "metadata": {},
   "source": [
    "# TRAIN, TEST, SPLIT"
   ]
  },
  {
   "cell_type": "code",
   "execution_count": 18,
   "id": "b9512062",
   "metadata": {},
   "outputs": [],
   "source": [
    "# separate out target: Sales \n",
    "# bin target data\n",
    "import jenkspy\n",
    "labels_4 = [\"0-100,000\",\"100,00-500,000\", \"500,000-1,000,000\",\"1,000,000-1,500,000\",\"1,500,000-2,000,000\",\"2,000,000-2,500,000\",\"2,500,00-3,000,000\",\"3,000,000-3,500,000\",\"3,500,000-4,000,000\",\n",
    "            \"4,000,000-4,500,000\",\"4,500,000-5,000,000\",\"5,000,000-5,500,000\",\"6,000,000-6,500,000\",\"6,500,000-7,000,000\",\"7,000,000-7,500,000\",\n",
    "            \"7,500,000-8,000,000\",\"8,000,000-8,500,000\",\"8,500,000-9,000,000\",\"9,500,000-10,000,000\",\"10,000,000-10,500,000\",\"10,500,000-20,000,000\",\"20,000,000-20,500,000\",\n",
    "            \"20,500,000-30,000,000\",\"30,000,000-30,500,000\",\"30,500,000-40,000,000\",\"40,000,000-40,500,000\",\"40,500,000-50,000,000\",\"50,000,000-50,500,000\",\"50,500,000-60,000,000\",\n",
    "            \"60,000,000-60,500,000\",\"60,500,000-70,000,000\",\"70,000,000-70,500,000\", \"70,500,000-80,000,000\",\"80,000,000-80,500,000\",\"80,500,000-90,000,000\",\"90,000,000-9,500,000\",\n",
    "            \"9,500,000-100,000,000\",\"100,000,000-100,500,000\",\"100,500,000-200,000,000\",\"200,000,000-200,500,000\",\"200,500,000-300,000,000\",\"300,000,000-300,500,000\",\n",
    "            \"300,500,000-400,000,000\",\"400,000,000-400,500,000\",\"400,500,000-500,000,000\",\"500,000,000-500,500,000\",\"500,500,000-600,000,000\",\"600,000,000-600,500,000\",\n",
    "            \"600,500,000-700,000,000\",\"700,000,000-700,500,000\",\"700,500,000-800,000,000\",\"800,000,000-800,500,000\",\"800,500,000-900,000,000\",\"900,000,000-900,500,000\",\n",
    "            \"900,500,000-1,000,000,000\",\"1,000,000,000-1,500,000,000\",\"1,500,000,000-2,000,000,000\",\"2,000,000,000-2,500,000,000\",\"2,500,000,000-3,000,000,000\"]\n",
    "breaks = jenkspy.jenks_breaks(Walmart3[\"Sales\"], nb_class=59)\n",
    "target = pd.cut(Walmart3[\"Sales\"] , bins=breaks, labels=labels_4, include_lowest=True)"
   ]
  },
  {
   "cell_type": "code",
   "execution_count": 19,
   "id": "b797d0c1",
   "metadata": {},
   "outputs": [],
   "source": [
    "Walmart3.drop(columns=[\"Week\"], inplace=True)"
   ]
  },
  {
   "cell_type": "code",
   "execution_count": 20,
   "id": "1f484014",
   "metadata": {},
   "outputs": [],
   "source": [
    "#Walmart3[\"Month\"] = pd.DatetimeIndex(Walmart3['Week']).month"
   ]
  },
  {
   "cell_type": "code",
   "execution_count": 21,
   "id": "ef285efd",
   "metadata": {},
   "outputs": [],
   "source": [
    "Walmart3.drop(columns=[\"Sales\"], inplace=True)"
   ]
  },
  {
   "cell_type": "code",
   "execution_count": 22,
   "id": "e03c73c6",
   "metadata": {},
   "outputs": [],
   "source": [
    "# split data into test train\n",
    "from sklearn.model_selection import train_test_split\n",
    "X_train, X_test, y_train, y_test = train_test_split(Walmart3, target, random_state=1)"
   ]
  },
  {
   "cell_type": "code",
   "execution_count": 23,
   "id": "50889b58",
   "metadata": {},
   "outputs": [],
   "source": [
    "# scale data\n",
    "from sklearn.preprocessing import StandardScaler\n",
    "scaler = StandardScaler().fit(X_train)\n",
    "X_train_scaled = scaler.transform(X_train)\n",
    "X_test_scaled = scaler.transform(X_test)"
   ]
  },
  {
   "cell_type": "code",
   "execution_count": 24,
   "id": "a63ce8d4",
   "metadata": {},
   "outputs": [],
   "source": [
    "from sklearn.ensemble import RandomForestClassifier\n",
    "from sklearn.linear_model import LogisticRegression\n",
    "from sklearn.model_selection import train_test_split\n",
    "from sklearn.preprocessing import StandardScaler"
   ]
  },
  {
   "cell_type": "markdown",
   "id": "33a6a006",
   "metadata": {},
   "source": [
    "# RANDOM FOREST MODEL "
   ]
  },
  {
   "cell_type": "markdown",
   "id": "822ccfbf",
   "metadata": {},
   "source": [
    "Determine projected sales per store based on sales data "
   ]
  },
  {
   "cell_type": "code",
   "execution_count": 25,
   "id": "b3c217cc",
   "metadata": {},
   "outputs": [],
   "source": [
    "random_forest_model = RandomForestClassifier(random_state=1, n_estimators=500).fit(X_train_scaled, y_train)"
   ]
  },
  {
   "cell_type": "code",
   "execution_count": 26,
   "id": "c1ac2fdb",
   "metadata": {},
   "outputs": [
    {
     "name": "stdout",
     "output_type": "stream",
     "text": [
      "Training Score: 1.0\n",
      "Testing Score: 0.2759477936606588\n"
     ]
    }
   ],
   "source": [
    "print(f'Training Score: {random_forest_model.score(X_train_scaled, y_train)}')\n",
    "print(f'Testing Score: {random_forest_model.score(X_test_scaled, y_test)}')"
   ]
  },
  {
   "cell_type": "code",
   "execution_count": 27,
   "id": "548ff539",
   "metadata": {},
   "outputs": [
    {
     "data": {
      "text/html": [
       "<div>\n",
       "<style scoped>\n",
       "    .dataframe tbody tr th:only-of-type {\n",
       "        vertical-align: middle;\n",
       "    }\n",
       "\n",
       "    .dataframe tbody tr th {\n",
       "        vertical-align: top;\n",
       "    }\n",
       "\n",
       "    .dataframe thead th {\n",
       "        text-align: right;\n",
       "    }\n",
       "</style>\n",
       "<table border=\"1\" class=\"dataframe\">\n",
       "  <thead>\n",
       "    <tr style=\"text-align: right;\">\n",
       "      <th></th>\n",
       "      <th>Predictions</th>\n",
       "      <th>Sales</th>\n",
       "    </tr>\n",
       "  </thead>\n",
       "  <tbody>\n",
       "    <tr>\n",
       "      <th>5988</th>\n",
       "      <td>7,000,000-7,500,000</td>\n",
       "      <td>3,500,000-4,000,000</td>\n",
       "    </tr>\n",
       "    <tr>\n",
       "      <th>2316</th>\n",
       "      <td>7,000,000-7,500,000</td>\n",
       "      <td>7,500,000-8,000,000</td>\n",
       "    </tr>\n",
       "    <tr>\n",
       "      <th>4543</th>\n",
       "      <td>7,000,000-7,500,000</td>\n",
       "      <td>40,500,000-50,000,000</td>\n",
       "    </tr>\n",
       "    <tr>\n",
       "      <th>6051</th>\n",
       "      <td>7,000,000-7,500,000</td>\n",
       "      <td>5,000,000-5,500,000</td>\n",
       "    </tr>\n",
       "    <tr>\n",
       "      <th>3890</th>\n",
       "      <td>7,000,000-7,500,000</td>\n",
       "      <td>50,000,000-50,500,000</td>\n",
       "    </tr>\n",
       "    <tr>\n",
       "      <th>...</th>\n",
       "      <td>...</td>\n",
       "      <td>...</td>\n",
       "    </tr>\n",
       "    <tr>\n",
       "      <th>627</th>\n",
       "      <td>7,000,000-7,500,000</td>\n",
       "      <td>500,000-1,000,000</td>\n",
       "    </tr>\n",
       "    <tr>\n",
       "      <th>1708</th>\n",
       "      <td>7,000,000-7,500,000</td>\n",
       "      <td>10,500,000-20,000,000</td>\n",
       "    </tr>\n",
       "    <tr>\n",
       "      <th>1930</th>\n",
       "      <td>7,000,000-7,500,000</td>\n",
       "      <td>600,000,000-600,500,000</td>\n",
       "    </tr>\n",
       "    <tr>\n",
       "      <th>756</th>\n",
       "      <td>7,000,000-7,500,000</td>\n",
       "      <td>90,000,000-9,500,000</td>\n",
       "    </tr>\n",
       "    <tr>\n",
       "      <th>5452</th>\n",
       "      <td>7,000,000-7,500,000</td>\n",
       "      <td>70,500,000-80,000,000</td>\n",
       "    </tr>\n",
       "  </tbody>\n",
       "</table>\n",
       "<p>1609 rows × 2 columns</p>\n",
       "</div>"
      ],
      "text/plain": [
       "              Predictions                    Sales\n",
       "5988  7,000,000-7,500,000      3,500,000-4,000,000\n",
       "2316  7,000,000-7,500,000      7,500,000-8,000,000\n",
       "4543  7,000,000-7,500,000    40,500,000-50,000,000\n",
       "6051  7,000,000-7,500,000      5,000,000-5,500,000\n",
       "3890  7,000,000-7,500,000    50,000,000-50,500,000\n",
       "...                   ...                      ...\n",
       "627   7,000,000-7,500,000        500,000-1,000,000\n",
       "1708  7,000,000-7,500,000    10,500,000-20,000,000\n",
       "1930  7,000,000-7,500,000  600,000,000-600,500,000\n",
       "756   7,000,000-7,500,000     90,000,000-9,500,000\n",
       "5452  7,000,000-7,500,000    70,500,000-80,000,000\n",
       "\n",
       "[1609 rows x 2 columns]"
      ]
     },
     "execution_count": 27,
     "metadata": {},
     "output_type": "execute_result"
    }
   ],
   "source": [
    "y_pred = pd.DataFrame(random_forest_model.predict(X_test), index=X_test.index, columns=['Predictions'])\n",
    "y_pred_df = y_pred.merge(y_test, how='outer', left_index=True, right_index=True)\n",
    "y_pred_df"
   ]
  },
  {
   "cell_type": "code",
   "execution_count": 48,
   "id": "e4c00c82",
   "metadata": {},
   "outputs": [
    {
     "data": {
      "image/png": "[encoded data removed]",
      "text/plain": [
       "<Figure size 432x288 with 1 Axes>"
      ]
     },
     "metadata": {
      "needs_background": "light"
     },
     "output_type": "display_data"
    }
   ],
   "source": [
    "import numpy as np\n",
    "\n",
    "def plotGraph(y_test,y_pred,regressorName):\n",
    "    if max(y_test) >= max(y_pred):\n",
    "        my_range = int(max(y_test))\n",
    "    else:\n",
    "        my_range = int(max(y_pred))\n",
    "    plt.scatter(range(len(y_test)), y_test, color='blue')\n",
    "    plt.scatter(range(len(y_pred)), y_pred, color='red')\n",
    "    plt.title(regressorName)\n",
    "    plt.show()\n",
    "    return\n",
    "\n",
    "\n",
    "y_test = range(10)\n",
    "y_pred = np.random.randint(0, 10, 10)\n",
    "\n",
    "plotGraph(y_test, y_pred, \"Random Forest\")"
   ]
  },
  {
   "cell_type": "markdown",
   "id": "3457a8f2",
   "metadata": {},
   "source": [
    "The accuray of this model is low (Random Forest) -- more data is required, let's try Logistic Reggression. "
   ]
  }
 ],
 "metadata": {
  "kernelspec": {
   "display_name": "Python 3",
   "language": "python",
   "name": "python3"
  },
  "language_info": {
   "codemirror_mode": {
    "name": "ipython",
    "version": 3
   },
   "file_extension": ".py",
   "mimetype": "text/x-python",
   "name": "python",
   "nbconvert_exporter": "python",
   "pygments_lexer": "ipython3",
   "version": "3.8.8"
  }
 },
 "nbformat": 4,
 "nbformat_minor": 5
}
