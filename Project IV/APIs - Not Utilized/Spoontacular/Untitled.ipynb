{
 "cells": [
  {
   "cell_type": "code",
   "execution_count": 1,
   "id": "06e0a0c9",
   "metadata": {},
   "outputs": [],
   "source": [
    "#Dependencies\n",
    "import requests\n",
    "import json\n",
    "\n",
    "from config import API_Key"
   ]
  },
  {
   "cell_type": "code",
   "execution_count": 2,
   "id": "59d10630",
   "metadata": {},
   "outputs": [],
   "source": [
    "url=\"https://api.spoonacular.com/recipes/716429/information?apiKey=API_Key-Type: application/json\"\n",
    "api_format = \"json\"\n",
    "\n",
    "query_url = f\"{url}appid={API_Key}&units={api_format}&q=\""
   ]
  },
  {
   "cell_type": "code",
   "execution_count": null,
   "id": "f64e45fb",
   "metadata": {},
   "outputs": [],
   "source": [
    "Ingredients=[\"Banana\", \"Chocolate\"]\n",
    "for Ingredient in cities:\n",
    "    response = requests.get(query_url + city).json()"
   ]
  },
  {
   "cell_type": "code",
   "execution_count": null,
   "id": "a3a61100",
   "metadata": {},
   "outputs": [],
   "source": []
  }
 ],
 "metadata": {
  "kernelspec": {
   "display_name": "Python 3",
   "language": "python",
   "name": "python3"
  },
  "language_info": {
   "codemirror_mode": {
    "name": "ipython",
    "version": 3
   },
   "file_extension": ".py",
   "mimetype": "text/x-python",
   "name": "python",
   "nbconvert_exporter": "python",
   "pygments_lexer": "ipython3",
   "version": "3.8.8"
  }
 },
 "nbformat": 4,
 "nbformat_minor": 5
}
