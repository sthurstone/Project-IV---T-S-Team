{
 "cells": [
  {
   "cell_type": "code",
   "execution_count": 1,
   "id": "b1f2393c",
   "metadata": {},
   "outputs": [],
   "source": [
    "import pandas as pd\n",
    "import matplotlib.pyplot as plt\n",
    "%matplotlib inline"
   ]
  },
  {
   "cell_type": "code",
   "execution_count": 2,
   "id": "1db84214",
   "metadata": {},
   "outputs": [],
   "source": [
    "from sklearn.model_selection import train_test_split\n",
    "from sklearn.linear_model import LinearRegression\n",
    "from sklearn.linear_model import LogisticRegression\n",
    "from sklearn.preprocessing import StandardScaler, MinMaxScaler, LabelEncoder\n",
    "from sklearn.neighbors import KNeighborsClassifier\n",
    "from sklearn.ensemble import RandomForestRegressor\n",
    "from datetime import datetime\n",
    "import jenkspy"
   ]
  },
  {
   "cell_type": "code",
   "execution_count": 3,
   "id": "ae12829b",
   "metadata": {},
   "outputs": [
    {
     "data": {
      "text/html": [
       "<div>\n",
       "<style scoped>\n",
       "    .dataframe tbody tr th:only-of-type {\n",
       "        vertical-align: middle;\n",
       "    }\n",
       "\n",
       "    .dataframe tbody tr th {\n",
       "        vertical-align: top;\n",
       "    }\n",
       "\n",
       "    .dataframe thead th {\n",
       "        text-align: right;\n",
       "    }\n",
       "</style>\n",
       "<table border=\"1\" class=\"dataframe\">\n",
       "  <thead>\n",
       "    <tr style=\"text-align: right;\">\n",
       "      <th></th>\n",
       "      <th>Store</th>\n",
       "      <th>Date</th>\n",
       "      <th>Weekly_Sales</th>\n",
       "      <th>Holiday_Flag</th>\n",
       "      <th>Temperature</th>\n",
       "      <th>Fuel_Price</th>\n",
       "      <th>CPI</th>\n",
       "      <th>Unemployment</th>\n",
       "    </tr>\n",
       "  </thead>\n",
       "  <tbody>\n",
       "    <tr>\n",
       "      <th>0</th>\n",
       "      <td>1</td>\n",
       "      <td>05-02-2010</td>\n",
       "      <td>1643690.90</td>\n",
       "      <td>0</td>\n",
       "      <td>42.31</td>\n",
       "      <td>2.572</td>\n",
       "      <td>211.096358</td>\n",
       "      <td>8.106</td>\n",
       "    </tr>\n",
       "    <tr>\n",
       "      <th>1</th>\n",
       "      <td>1</td>\n",
       "      <td>12-02-2010</td>\n",
       "      <td>1641957.44</td>\n",
       "      <td>1</td>\n",
       "      <td>38.51</td>\n",
       "      <td>2.548</td>\n",
       "      <td>211.242170</td>\n",
       "      <td>8.106</td>\n",
       "    </tr>\n",
       "    <tr>\n",
       "      <th>2</th>\n",
       "      <td>1</td>\n",
       "      <td>19-02-2010</td>\n",
       "      <td>1611968.17</td>\n",
       "      <td>0</td>\n",
       "      <td>39.93</td>\n",
       "      <td>2.514</td>\n",
       "      <td>211.289143</td>\n",
       "      <td>8.106</td>\n",
       "    </tr>\n",
       "    <tr>\n",
       "      <th>3</th>\n",
       "      <td>1</td>\n",
       "      <td>26-02-2010</td>\n",
       "      <td>1409727.59</td>\n",
       "      <td>0</td>\n",
       "      <td>46.63</td>\n",
       "      <td>2.561</td>\n",
       "      <td>211.319643</td>\n",
       "      <td>8.106</td>\n",
       "    </tr>\n",
       "    <tr>\n",
       "      <th>4</th>\n",
       "      <td>1</td>\n",
       "      <td>05-03-2010</td>\n",
       "      <td>1554806.68</td>\n",
       "      <td>0</td>\n",
       "      <td>46.50</td>\n",
       "      <td>2.625</td>\n",
       "      <td>211.350143</td>\n",
       "      <td>8.106</td>\n",
       "    </tr>\n",
       "    <tr>\n",
       "      <th>5</th>\n",
       "      <td>1</td>\n",
       "      <td>12-03-2010</td>\n",
       "      <td>1439541.59</td>\n",
       "      <td>0</td>\n",
       "      <td>57.79</td>\n",
       "      <td>2.667</td>\n",
       "      <td>211.380643</td>\n",
       "      <td>8.106</td>\n",
       "    </tr>\n",
       "    <tr>\n",
       "      <th>6</th>\n",
       "      <td>1</td>\n",
       "      <td>19-03-2010</td>\n",
       "      <td>1472515.79</td>\n",
       "      <td>0</td>\n",
       "      <td>54.58</td>\n",
       "      <td>2.720</td>\n",
       "      <td>211.215635</td>\n",
       "      <td>8.106</td>\n",
       "    </tr>\n",
       "    <tr>\n",
       "      <th>7</th>\n",
       "      <td>1</td>\n",
       "      <td>26-03-2010</td>\n",
       "      <td>1404429.92</td>\n",
       "      <td>0</td>\n",
       "      <td>51.45</td>\n",
       "      <td>2.732</td>\n",
       "      <td>211.018042</td>\n",
       "      <td>8.106</td>\n",
       "    </tr>\n",
       "    <tr>\n",
       "      <th>8</th>\n",
       "      <td>1</td>\n",
       "      <td>02-04-2010</td>\n",
       "      <td>1594968.28</td>\n",
       "      <td>0</td>\n",
       "      <td>62.27</td>\n",
       "      <td>2.719</td>\n",
       "      <td>210.820450</td>\n",
       "      <td>7.808</td>\n",
       "    </tr>\n",
       "    <tr>\n",
       "      <th>9</th>\n",
       "      <td>1</td>\n",
       "      <td>09-04-2010</td>\n",
       "      <td>1545418.53</td>\n",
       "      <td>0</td>\n",
       "      <td>65.86</td>\n",
       "      <td>2.770</td>\n",
       "      <td>210.622857</td>\n",
       "      <td>7.808</td>\n",
       "    </tr>\n",
       "  </tbody>\n",
       "</table>\n",
       "</div>"
      ],
      "text/plain": [
       "   Store        Date  Weekly_Sales  Holiday_Flag  Temperature  Fuel_Price  \\\n",
       "0      1  05-02-2010    1643690.90             0        42.31       2.572   \n",
       "1      1  12-02-2010    1641957.44             1        38.51       2.548   \n",
       "2      1  19-02-2010    1611968.17             0        39.93       2.514   \n",
       "3      1  26-02-2010    1409727.59             0        46.63       2.561   \n",
       "4      1  05-03-2010    1554806.68             0        46.50       2.625   \n",
       "5      1  12-03-2010    1439541.59             0        57.79       2.667   \n",
       "6      1  19-03-2010    1472515.79             0        54.58       2.720   \n",
       "7      1  26-03-2010    1404429.92             0        51.45       2.732   \n",
       "8      1  02-04-2010    1594968.28             0        62.27       2.719   \n",
       "9      1  09-04-2010    1545418.53             0        65.86       2.770   \n",
       "\n",
       "          CPI  Unemployment  \n",
       "0  211.096358         8.106  \n",
       "1  211.242170         8.106  \n",
       "2  211.289143         8.106  \n",
       "3  211.319643         8.106  \n",
       "4  211.350143         8.106  \n",
       "5  211.380643         8.106  \n",
       "6  211.215635         8.106  \n",
       "7  211.018042         8.106  \n",
       "8  210.820450         7.808  \n",
       "9  210.622857         7.808  "
      ]
     },
     "execution_count": 3,
     "metadata": {},
     "output_type": "execute_result"
    }
   ],
   "source": [
    "Walmart=pd.read_csv(\"Walmart.csv\")\n",
    "Walmart.head(10)"
   ]
  },
  {
   "cell_type": "code",
   "execution_count": 4,
   "id": "b0ef218a",
   "metadata": {},
   "outputs": [
    {
     "data": {
      "text/plain": [
       "Store           0\n",
       "Date            0\n",
       "Weekly_Sales    0\n",
       "Holiday_Flag    0\n",
       "Temperature     0\n",
       "Fuel_Price      0\n",
       "CPI             0\n",
       "Unemployment    0\n",
       "dtype: int64"
      ]
     },
     "execution_count": 4,
     "metadata": {},
     "output_type": "execute_result"
    }
   ],
   "source": [
    "Walmart.isnull().sum()"
   ]
  },
  {
   "cell_type": "code",
   "execution_count": 5,
   "id": "d8a90bca",
   "metadata": {},
   "outputs": [],
   "source": [
    "Walmart3=Walmart.rename(columns={'Weekly_Sales': 'Sales'})"
   ]
  },
  {
   "cell_type": "code",
   "execution_count": 6,
   "id": "097142b9",
   "metadata": {},
   "outputs": [],
   "source": [
    "Walmart3.drop(columns=[\"Date\"], inplace=True)"
   ]
  },
  {
   "cell_type": "code",
   "execution_count": 7,
   "id": "c18f035a",
   "metadata": {},
   "outputs": [],
   "source": [
    "from sklearn import preprocessing\n",
    "le = preprocessing.LabelEncoder()"
   ]
  },
  {
   "cell_type": "code",
   "execution_count": 8,
   "id": "1a1726c7",
   "metadata": {},
   "outputs": [],
   "source": [
    "Walmart3['Sales'] = Walmart3['Sales'].astype(str)"
   ]
  },
  {
   "cell_type": "code",
   "execution_count": 9,
   "id": "2f543895",
   "metadata": {},
   "outputs": [],
   "source": [
    "Walmart3['label_sales']=''\n",
    "for index, row in Walmart3.iterrows():\n",
    "    if (row['Sales']<='100000'):\n",
    "            Walmart3.loc[index, 'label_sales']=0\n",
    "    elif(row['Sales']>'100000')& (row['Sales']<='500000'):\n",
    "                Walmart3.loc[index, 'label_sales']=1\n",
    "    elif(row['Sales']>'500000')& (row['Sales']<='1000000'):\n",
    "                Walmart3.loc[index, 'label_sales']=2\n",
    "    elif(row['Sales']>'1000000')& (row['Sales']<='3000000'):\n",
    "                Walmart3.loc[index, 'label_sales']=3\n",
    "    elif(row['Sales']>'300000')& (row['Sales']<='500000'):\n",
    "                Walmart3.loc[index, 'label_sales']=4\n",
    "    elif(row['Sales']>'500000')& (row['Sales']<='800000'):\n",
    "                Walmart3.loc[index, 'label_sales']=5\n",
    "    elif(row['Sales']>'800000')& (row['Sales']<='1000000'):\n",
    "                Walmart3.loc[index, 'label_sales']=6\n",
    "    elif(row['Sales']>'10000000')& (row['Sales']<='30000000'):\n",
    "                Walmart3.loc[index, 'label_sales']=7\n",
    "    elif(row['Sales']>'30000000')& (row['Sales']<='50000000'):\n",
    "                Walmart3.loc[index, 'label_sales']=8\n",
    "    elif(row['Sales']>'50000000')& (row['Sales']<='80000000'):\n",
    "                Walmart3.loc[index, 'label_sales']=9\n",
    "    elif(row['Sales']>'80000000')& (row['Sales']<='1000000000'):\n",
    "                Walmart3.loc[index, 'label_sales']=10\n",
    "    elif(row['Sales']>'100000000')& (row['Sales']<='300000000'):\n",
    "                Walmart3.loc[index, 'label_sales']=11\n",
    "    elif(row['Sales']>'300000000')& (row['Sales']<='5000000000'):\n",
    "                Walmart3.loc[index, 'label_sales']=12\n",
    "    else: \n",
    "                Walmart3.loc[index, 'label_sales']=0"
   ]
  },
  {
   "cell_type": "code",
   "execution_count": 10,
   "id": "86e9a5ae",
   "metadata": {},
   "outputs": [
    {
     "data": {
      "text/plain": [
       "1    4237\n",
       "5    1344\n",
       "0     854\n",
       "Name: label_sales, dtype: int64"
      ]
     },
     "execution_count": 10,
     "metadata": {},
     "output_type": "execute_result"
    }
   ],
   "source": [
    "Walmart3['label_sales'].value_counts()"
   ]
  },
  {
   "cell_type": "code",
   "execution_count": 11,
   "id": "95e6876f",
   "metadata": {},
   "outputs": [],
   "source": [
    "y = Walmart3['label_sales'].astype('int')\n",
    "X = Walmart3.drop(['label_sales', 'Sales'], axis = 1)"
   ]
  },
  {
   "cell_type": "code",
   "execution_count": 12,
   "id": "23a47826",
   "metadata": {},
   "outputs": [
    {
     "data": {
      "text/plain": [
       "0       1\n",
       "1       1\n",
       "2       1\n",
       "3       1\n",
       "4       1\n",
       "       ..\n",
       "6430    5\n",
       "6431    5\n",
       "6432    5\n",
       "6433    5\n",
       "6434    5\n",
       "Name: label_sales, Length: 6435, dtype: int32"
      ]
     },
     "execution_count": 12,
     "metadata": {},
     "output_type": "execute_result"
    }
   ],
   "source": [
    "y"
   ]
  },
  {
   "cell_type": "code",
   "execution_count": 13,
   "id": "277741e9",
   "metadata": {},
   "outputs": [],
   "source": [
    "X_train, X_test, y_train, y_test = train_test_split(X, y, random_state=42)"
   ]
  },
  {
   "cell_type": "code",
   "execution_count": 14,
   "id": "fed818a6",
   "metadata": {},
   "outputs": [
    {
     "data": {
      "text/plain": [
       "6246    1\n",
       "3855    1\n",
       "809     1\n",
       "1807    1\n",
       "5954    5\n",
       "       ..\n",
       "3772    1\n",
       "5191    5\n",
       "5226    5\n",
       "5390    1\n",
       "860     5\n",
       "Name: label_sales, Length: 4826, dtype: int32"
      ]
     },
     "execution_count": 14,
     "metadata": {},
     "output_type": "execute_result"
    }
   ],
   "source": [
    "y_train"
   ]
  },
  {
   "cell_type": "code",
   "execution_count": 15,
   "id": "7164115d",
   "metadata": {},
   "outputs": [
    {
     "data": {
      "text/plain": [
       "array([[ 1.60047202, -0.26871207, -1.76541795, -0.17397815, -1.06160558,\n",
       "        -1.02955636],\n",
       "       [ 0.29160115, -0.26871207,  0.31009121,  1.83998324, -0.73557291,\n",
       "         0.12674183],\n",
       "       [-1.32523933,  3.72145546,  0.12994244, -0.27456688,  1.23774926,\n",
       "        -0.77646564],\n",
       "       ...,\n",
       "       [ 1.06152519, -0.26871207,  1.42842437,  0.70507992,  1.09122181,\n",
       "         0.09356715],\n",
       "       [ 1.1385176 ,  3.72145546, -0.85436439,  0.14528175, -1.05719358,\n",
       "         2.61537805],\n",
       "       [-1.24824693, -0.26871207, -1.7963471 , -1.77465104,  0.45957052,\n",
       "         0.54142535]])"
      ]
     },
     "execution_count": 15,
     "metadata": {},
     "output_type": "execute_result"
    }
   ],
   "source": [
    "scaler = StandardScaler().fit(X_train)\n",
    "X_train_scaled = scaler.transform(X_train)\n",
    "X_test_scaled = scaler.transform(X_test)\n",
    "X_train_scaled"
   ]
  },
  {
   "cell_type": "code",
   "execution_count": 16,
   "id": "9b220301",
   "metadata": {},
   "outputs": [
    {
     "data": {
      "text/plain": [
       "LogisticRegression()"
      ]
     },
     "execution_count": 16,
     "metadata": {},
     "output_type": "execute_result"
    }
   ],
   "source": [
    "classifier = LogisticRegression()\n",
    "classifier"
   ]
  },
  {
   "cell_type": "code",
   "execution_count": 17,
   "id": "d7ae76fd",
   "metadata": {},
   "outputs": [
    {
     "name": "stderr",
     "output_type": "stream",
     "text": [
      "C:\\Users\\Stephanie\\Python\\lib\\site-packages\\sklearn\\linear_model\\_logistic.py:763: ConvergenceWarning: lbfgs failed to converge (status=1):\n",
      "STOP: TOTAL NO. of ITERATIONS REACHED LIMIT.\n",
      "\n",
      "Increase the number of iterations (max_iter) or scale the data as shown in:\n",
      "    https://scikit-learn.org/stable/modules/preprocessing.html\n",
      "Please also refer to the documentation for alternative solver options:\n",
      "    https://scikit-learn.org/stable/modules/linear_model.html#logistic-regression\n",
      "  n_iter_i = _check_optimize_result(\n"
     ]
    },
    {
     "data": {
      "text/plain": [
       "LogisticRegression()"
      ]
     },
     "execution_count": 17,
     "metadata": {},
     "output_type": "execute_result"
    }
   ],
   "source": [
    "classifier.fit(X_train, y_train)"
   ]
  },
  {
   "cell_type": "code",
   "execution_count": 18,
   "id": "786e88ea",
   "metadata": {},
   "outputs": [
    {
     "data": {
      "text/plain": [
       "array([1, 1, 1, ..., 1, 1, 5])"
      ]
     },
     "execution_count": 18,
     "metadata": {},
     "output_type": "execute_result"
    }
   ],
   "source": [
    "y_predict = classifier.predict(X_test)\n",
    "y_predict"
   ]
  },
  {
   "cell_type": "code",
   "execution_count": 19,
   "id": "2befc010",
   "metadata": {},
   "outputs": [
    {
     "data": {
      "text/plain": [
       "0.6469125569830088"
      ]
     },
     "execution_count": 19,
     "metadata": {},
     "output_type": "execute_result"
    }
   ],
   "source": [
    "classifier.score(X_train, y_train)"
   ]
  },
  {
   "cell_type": "code",
   "execution_count": 20,
   "id": "21c7c469",
   "metadata": {},
   "outputs": [
    {
     "data": {
      "text/plain": [
       "0.6712243629583592"
      ]
     },
     "execution_count": 20,
     "metadata": {},
     "output_type": "execute_result"
    }
   ],
   "source": [
    "classifier.score(X_test, y_test)"
   ]
  },
  {
   "cell_type": "code",
   "execution_count": 21,
   "id": "c7667e4e",
   "metadata": {},
   "outputs": [
    {
     "data": {
      "text/html": [
       "<div>\n",
       "<style scoped>\n",
       "    .dataframe tbody tr th:only-of-type {\n",
       "        vertical-align: middle;\n",
       "    }\n",
       "\n",
       "    .dataframe tbody tr th {\n",
       "        vertical-align: top;\n",
       "    }\n",
       "\n",
       "    .dataframe thead th {\n",
       "        text-align: right;\n",
       "    }\n",
       "</style>\n",
       "<table border=\"1\" class=\"dataframe\">\n",
       "  <thead>\n",
       "    <tr style=\"text-align: right;\">\n",
       "      <th></th>\n",
       "      <th>Sales Projection</th>\n",
       "      <th>label_sales</th>\n",
       "    </tr>\n",
       "  </thead>\n",
       "  <tbody>\n",
       "    <tr>\n",
       "      <th>2436</th>\n",
       "      <td>1</td>\n",
       "      <td>1</td>\n",
       "    </tr>\n",
       "    <tr>\n",
       "      <th>3361</th>\n",
       "      <td>1</td>\n",
       "      <td>1</td>\n",
       "    </tr>\n",
       "    <tr>\n",
       "      <th>233</th>\n",
       "      <td>1</td>\n",
       "      <td>1</td>\n",
       "    </tr>\n",
       "    <tr>\n",
       "      <th>3667</th>\n",
       "      <td>1</td>\n",
       "      <td>1</td>\n",
       "    </tr>\n",
       "    <tr>\n",
       "      <th>5011</th>\n",
       "      <td>1</td>\n",
       "      <td>1</td>\n",
       "    </tr>\n",
       "    <tr>\n",
       "      <th>...</th>\n",
       "      <td>...</td>\n",
       "      <td>...</td>\n",
       "    </tr>\n",
       "    <tr>\n",
       "      <th>4272</th>\n",
       "      <td>1</td>\n",
       "      <td>1</td>\n",
       "    </tr>\n",
       "    <tr>\n",
       "      <th>1094</th>\n",
       "      <td>1</td>\n",
       "      <td>0</td>\n",
       "    </tr>\n",
       "    <tr>\n",
       "      <th>1121</th>\n",
       "      <td>1</td>\n",
       "      <td>0</td>\n",
       "    </tr>\n",
       "    <tr>\n",
       "      <th>3737</th>\n",
       "      <td>1</td>\n",
       "      <td>1</td>\n",
       "    </tr>\n",
       "    <tr>\n",
       "      <th>5579</th>\n",
       "      <td>5</td>\n",
       "      <td>0</td>\n",
       "    </tr>\n",
       "  </tbody>\n",
       "</table>\n",
       "<p>1609 rows × 2 columns</p>\n",
       "</div>"
      ],
      "text/plain": [
       "      Sales Projection  label_sales\n",
       "2436                 1            1\n",
       "3361                 1            1\n",
       "233                  1            1\n",
       "3667                 1            1\n",
       "5011                 1            1\n",
       "...                ...          ...\n",
       "4272                 1            1\n",
       "1094                 1            0\n",
       "1121                 1            0\n",
       "3737                 1            1\n",
       "5579                 5            0\n",
       "\n",
       "[1609 rows x 2 columns]"
      ]
     },
     "execution_count": 21,
     "metadata": {},
     "output_type": "execute_result"
    }
   ],
   "source": [
    "y_pred = pd.DataFrame(classifier.predict(X_test), index=X_test.index, columns=['Sales Projection'])\n",
    "y_pred_df = y_pred.merge(y_test, how='outer', left_index=True, right_index=True)\n",
    "y_pred_df"
   ]
  },
  {
   "cell_type": "markdown",
   "id": "7d8dd73f",
   "metadata": {},
   "source": [
    "__________________________________________________________________________________________________"
   ]
  },
  {
   "cell_type": "code",
   "execution_count": 22,
   "id": "d5ad8bcf",
   "metadata": {},
   "outputs": [
    {
     "name": "stdout",
     "output_type": "stream",
     "text": [
      "Training Data Score: 0.6469125569830088\n",
      "Testing Data Score: 0.6712243629583592\n"
     ]
    }
   ],
   "source": [
    "print(f\"Training Data Score: {classifier.score(X_train, y_train)}\")\n",
    "print(f\"Testing Data Score: {classifier.score(X_test, y_test)}\")"
   ]
  },
  {
   "cell_type": "markdown",
   "id": "2085b187",
   "metadata": {},
   "source": [
    "Logistic Regression is really only meant to be used for binary prediction - \"yes or no\", \"1 or 2\" -- not best option for predicting future sales projections which is why the accuracy is only about 65%."
   ]
  }
 ],
 "metadata": {
  "kernelspec": {
   "display_name": "Python 3",
   "language": "python",
   "name": "python3"
  },
  "language_info": {
   "codemirror_mode": {
    "name": "ipython",
    "version": 3
   },
   "file_extension": ".py",
   "mimetype": "text/x-python",
   "name": "python",
   "nbconvert_exporter": "python",
   "pygments_lexer": "ipython3",
   "version": "3.8.8"
  }
 },
 "nbformat": 4,
 "nbformat_minor": 5
}
